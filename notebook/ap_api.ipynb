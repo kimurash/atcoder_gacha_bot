{
 "cells": [
  {
   "cell_type": "code",
   "execution_count": 1,
   "metadata": {},
   "outputs": [],
   "source": [
    "from random import choice\n",
    "from pprint import pprint\n",
    "\n",
    "import requests"
   ]
  },
  {
   "cell_type": "markdown",
   "metadata": {},
   "source": [
    "#### 問題の詳細"
   ]
  },
  {
   "cell_type": "code",
   "execution_count": 2,
   "metadata": {},
   "outputs": [],
   "source": [
    "response = requests.get('https://kenkoooo.com/atcoder/resources/merged-problems.json')"
   ]
  },
  {
   "cell_type": "code",
   "execution_count": 3,
   "metadata": {},
   "outputs": [
    {
     "name": "stdout",
     "output_type": "stream",
     "text": [
      "<class 'requests.models.Response'>\n"
     ]
    }
   ],
   "source": [
    "print(response.status_code)"
   ]
  },
  {
   "cell_type": "code",
   "execution_count": 4,
   "metadata": {},
   "outputs": [
    {
     "name": "stdout",
     "output_type": "stream",
     "text": [
      "<class 'list'>\n",
      "6543\n"
     ]
    }
   ],
   "source": [
    "prob_info = response.json()\n",
    "print(type(prob_info))\n",
    "print(len(prob_info))"
   ]
  },
  {
   "cell_type": "markdown",
   "metadata": {},
   "source": [
    "コンテストが開催される度にレスポンスのサイズも増大していくところが問題"
   ]
  },
  {
   "cell_type": "code",
   "execution_count": 5,
   "metadata": {},
   "outputs": [
    {
     "name": "stdout",
     "output_type": "stream",
     "text": [
      "{'contest_id': 'qupc2018',\n",
      " 'execution_time': 17,\n",
      " 'fastest_contest_id': 'qupc2018',\n",
      " 'fastest_submission_id': 48056536,\n",
      " 'fastest_user_id': 'luogu_bot4',\n",
      " 'first_contest_id': 'qupc2018',\n",
      " 'first_submission_id': 3437306,\n",
      " 'first_user_id': 'ainta',\n",
      " 'id': 'qupc2018_h',\n",
      " 'name': 'ukuku',\n",
      " 'point': None,\n",
      " 'problem_index': 'H',\n",
      " 'shortest_contest_id': 'qupc2018',\n",
      " 'shortest_submission_id': 22368237,\n",
      " 'shortest_user_id': 'akouryy',\n",
      " 'solver_count': 36,\n",
      " 'source_code_length': 141,\n",
      " 'title': 'H. ukuku'}\n"
     ]
    }
   ],
   "source": [
    "rand_prob = choice(prob_info)\n",
    "pprint(rand_prob)"
   ]
  },
  {
   "cell_type": "markdown",
   "metadata": {},
   "source": [
    "#### 問題の難易度"
   ]
  },
  {
   "cell_type": "code",
   "execution_count": 19,
   "metadata": {},
   "outputs": [],
   "source": [
    "response = requests.get('https://kenkoooo.com/atcoder/resources/problem-models.json')"
   ]
  },
  {
   "cell_type": "code",
   "execution_count": 21,
   "metadata": {},
   "outputs": [
    {
     "name": "stdout",
     "output_type": "stream",
     "text": [
      "<class 'dict'>\n"
     ]
    }
   ],
   "source": [
    "est_diff = response.json()\n",
    "print(type(est_diff))"
   ]
  },
  {
   "cell_type": "code",
   "execution_count": 26,
   "metadata": {},
   "outputs": [
    {
     "data": {
      "text/plain": [
       "{'difficulty': 3877,\n",
       " 'discrimination': 0.004479398673070138,\n",
       " 'irt_loglikelihood': -14.211366840548514,\n",
       " 'irt_users': 900,\n",
       " 'is_experimental': False}"
      ]
     },
     "execution_count": 26,
     "metadata": {},
     "output_type": "execute_result"
    }
   ],
   "source": [
    "est_diff[rand_prob['id']]"
   ]
  }
 ],
 "metadata": {
  "kernelspec": {
   "display_name": ".venv",
   "language": "python",
   "name": "python3"
  },
  "language_info": {
   "codemirror_mode": {
    "name": "ipython",
    "version": 3
   },
   "file_extension": ".py",
   "mimetype": "text/x-python",
   "name": "python",
   "nbconvert_exporter": "python",
   "pygments_lexer": "ipython3",
   "version": "3.10.13"
  }
 },
 "nbformat": 4,
 "nbformat_minor": 2
}
